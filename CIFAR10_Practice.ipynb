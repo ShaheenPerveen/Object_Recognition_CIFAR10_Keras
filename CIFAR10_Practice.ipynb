{
 "cells": [
  {
   "cell_type": "code",
   "execution_count": 1,
   "metadata": {
    "collapsed": false
   },
   "outputs": [
    {
     "name": "stderr",
     "output_type": "stream",
     "text": [
      "Using Theano backend.\n",
      "Using gpu device 0: GeForce GTX TITAN X (CNMeM is disabled, cuDNN 5005)\n"
     ]
    }
   ],
   "source": [
    "import numpy as np\n",
    "import pandas as pd\n",
    "from sklearn.cross_validation import train_test_split\n",
    "\n",
    "from keras.preprocessing.image import ImageDataGenerator\n",
    "from keras.models import Sequential\n",
    "from keras.layers import Dense, Dropout, Activation, Flatten\n",
    "from keras.layers import Convolution2D, MaxPooling2D\n",
    "from keras.layers.convolutional import Convolution2D, MaxPooling2D, ZeroPadding2D\n",
    "from keras.optimizers import SGD\n",
    "from keras.utils import np_utils\n",
    "from keras.callbacks import LearningRateScheduler\n",
    "from keras.constraints import maxnorm\n",
    "from keras.datasets import cifar10\n",
    "\n",
    "from matplotlib import pyplot as plt\n",
    "%matplotlib inline\n",
    "\n",
    "import cv2\n",
    "import glob\n",
    "import os\n",
    "import re"
   ]
  },
  {
   "cell_type": "code",
   "execution_count": 2,
   "metadata": {
    "collapsed": true
   },
   "outputs": [],
   "source": [
    "# load data\n",
    "(X_train, y_train), (X_test, y_test) = cifar10.load_data()"
   ]
  },
  {
   "cell_type": "code",
   "execution_count": 3,
   "metadata": {
    "collapsed": true
   },
   "outputs": [],
   "source": [
    "X_train = X_train.astype('float32')\n",
    "X_test = X_test.astype('float32')\n",
    "X_train = X_train / 255.0\n",
    "X_test = X_test / 255.0"
   ]
  },
  {
   "cell_type": "code",
   "execution_count": 4,
   "metadata": {
    "collapsed": true
   },
   "outputs": [],
   "source": [
    "\n",
    "# one hot encode outputs\n",
    "y_train = np_utils.to_categorical(y_train)\n",
    "y_test = np_utils.to_categorical(y_test)\n",
    "num_classes = y_test.shape[1]"
   ]
  },
  {
   "cell_type": "code",
   "execution_count": 18,
   "metadata": {
    "collapsed": false
   },
   "outputs": [],
   "source": [
    "# Reinstallise models \n",
    "img_size = 32\n",
    "\n",
    "def cnn_model():\n",
    "    model = Sequential()\n",
    "    model.add(Convolution2D(32, 3, 3, border_mode='same', input_shape=(3, img_size, img_size), activation='relu'))\n",
    "    model.add(Dropout(0.2))\n",
    "    model.add(Convolution2D(32, 3, 3, activation='relu',border_mode='same'))\n",
    "    model.add(MaxPooling2D(pool_size=(2, 2)))\n",
    "    #model.add(Dropout(0.2))\n",
    "    \n",
    "    model.add(Convolution2D(64, 3, 3, border_mode='same', activation='relu'))\n",
    "    model.add(Dropout(0.2))\n",
    "    model.add(Convolution2D(64, 3, 3, activation='relu',border_mode='same'))\n",
    "    model.add(MaxPooling2D(pool_size=(2, 2)))\n",
    "    #model.add(Dropout(0.2))\n",
    "\n",
    "    model.add(Convolution2D(128, 3, 3, border_mode='same', activation='relu'))\n",
    "    model.add(Dropout(0.2))\n",
    "    model.add(Convolution2D(128, 3, 3, activation='relu',border_mode='same'))\n",
    "    model.add(MaxPooling2D(pool_size=(2, 2)))\n",
    "    #model.add(Dropout(0.2))\n",
    "\n",
    "    model.add(Flatten())\n",
    "    model.add(Dropout(0.2))\n",
    "    model.add(Dense(1024, activation='relu', W_constraint=maxnorm(3)))\n",
    "    model.add(Dropout(0.2))\n",
    "    model.add(Dense(512, activation='relu', W_constraint=maxnorm(3)))\n",
    "    model.add(Dropout(0.2))\n",
    "    model.add(Dense(num_classes, activation='softmax'))\n",
    "    return model\n",
    "\n",
    "\n",
    "model2 = cnn_model()\n",
    "modeladam = cnn_model()\n",
    "modelada = cnn_model()\n",
    "\n",
    "lr = 0.01\n",
    "\n",
    "sgd = SGD(lr=lr, decay=1e-5, momentum=0.8, nesterov=True)\n",
    "\n",
    "model2.compile(loss='categorical_crossentropy',\n",
    "          optimizer=sgd,\n",
    "          metrics=['accuracy'])\n",
    "\n",
    "modeladam.compile(loss='categorical_crossentropy',\n",
    "          optimizer='adam',\n",
    "          metrics=['accuracy'])\n",
    "\n",
    "modelada.compile(loss='categorical_crossentropy',\n",
    "          optimizer='adadelta',\n",
    "          metrics=['accuracy'])\n",
    "\n",
    "\n",
    "#def lr_schedule(epoch):\n",
    "    #return lr*(0.1**int(epoch/10))"
   ]
  },
  {
   "cell_type": "code",
   "execution_count": 19,
   "metadata": {
    "collapsed": false
   },
   "outputs": [
    {
     "name": "stdout",
     "output_type": "stream",
     "text": [
      "Train on 50000 samples, validate on 10000 samples\n",
      "Epoch 1/50\n",
      "50000/50000 [==============================] - 22s - loss: 1.8780 - acc: 0.3003 - val_loss: 1.5371 - val_acc: 0.4494\n",
      "Epoch 2/50\n",
      "50000/50000 [==============================] - 23s - loss: 1.4308 - acc: 0.4794 - val_loss: 1.2568 - val_acc: 0.5427\n",
      "Epoch 3/50\n",
      "50000/50000 [==============================] - 23s - loss: 1.2230 - acc: 0.5620 - val_loss: 1.2185 - val_acc: 0.5593\n",
      "Epoch 4/50\n",
      "50000/50000 [==============================] - 23s - loss: 1.0596 - acc: 0.6221 - val_loss: 1.0042 - val_acc: 0.6445\n",
      "Epoch 5/50\n",
      "50000/50000 [==============================] - 23s - loss: 0.9307 - acc: 0.6717 - val_loss: 0.8666 - val_acc: 0.6911\n",
      "Epoch 6/50\n",
      "50000/50000 [==============================] - 23s - loss: 0.8314 - acc: 0.7057 - val_loss: 0.7681 - val_acc: 0.7305\n",
      "Epoch 7/50\n",
      "50000/50000 [==============================] - 23s - loss: 0.7498 - acc: 0.7364 - val_loss: 0.7275 - val_acc: 0.7441\n",
      "Epoch 8/50\n",
      "50000/50000 [==============================] - 23s - loss: 0.6906 - acc: 0.7564 - val_loss: 0.7029 - val_acc: 0.7512\n",
      "Epoch 9/50\n",
      "50000/50000 [==============================] - 23s - loss: 0.6341 - acc: 0.7775 - val_loss: 0.6792 - val_acc: 0.7626\n",
      "Epoch 10/50\n",
      "50000/50000 [==============================] - 23s - loss: 0.5880 - acc: 0.7940 - val_loss: 0.6474 - val_acc: 0.7757\n",
      "Epoch 11/50\n",
      "50000/50000 [==============================] - 23s - loss: 0.5432 - acc: 0.8091 - val_loss: 0.6377 - val_acc: 0.7799\n",
      "Epoch 12/50\n",
      "50000/50000 [==============================] - 23s - loss: 0.5047 - acc: 0.8218 - val_loss: 0.6188 - val_acc: 0.7921\n",
      "Epoch 13/50\n",
      "50000/50000 [==============================] - 23s - loss: 0.4769 - acc: 0.8310 - val_loss: 0.5989 - val_acc: 0.7966\n",
      "Epoch 14/50\n",
      "50000/50000 [==============================] - 23s - loss: 0.4422 - acc: 0.8420 - val_loss: 0.5888 - val_acc: 0.8031\n",
      "Epoch 15/50\n",
      "50000/50000 [==============================] - 23s - loss: 0.4111 - acc: 0.8536 - val_loss: 0.5895 - val_acc: 0.8044\n",
      "Epoch 16/50\n",
      "50000/50000 [==============================] - 23s - loss: 0.3878 - acc: 0.8622 - val_loss: 0.5979 - val_acc: 0.8071\n",
      "Epoch 17/50\n",
      "50000/50000 [==============================] - 23s - loss: 0.3633 - acc: 0.8712 - val_loss: 0.6116 - val_acc: 0.7992\n",
      "Epoch 18/50\n",
      "50000/50000 [==============================] - 23s - loss: 0.3410 - acc: 0.8788 - val_loss: 0.5762 - val_acc: 0.8100\n",
      "Epoch 19/50\n",
      "50000/50000 [==============================] - 23s - loss: 0.3176 - acc: 0.8894 - val_loss: 0.5927 - val_acc: 0.8118\n",
      "Epoch 20/50\n",
      "50000/50000 [==============================] - 23s - loss: 0.2958 - acc: 0.8940 - val_loss: 0.6316 - val_acc: 0.8080\n",
      "Epoch 21/50\n",
      "50000/50000 [==============================] - 23s - loss: 0.2829 - acc: 0.9001 - val_loss: 0.6198 - val_acc: 0.8111\n",
      "Epoch 22/50\n",
      "50000/50000 [==============================] - 23s - loss: 0.2634 - acc: 0.9067 - val_loss: 0.5942 - val_acc: 0.8164\n",
      "Epoch 23/50\n",
      "50000/50000 [==============================] - 23s - loss: 0.2473 - acc: 0.9115 - val_loss: 0.6179 - val_acc: 0.8124\n",
      "Epoch 24/50\n",
      "50000/50000 [==============================] - 23s - loss: 0.2343 - acc: 0.9152 - val_loss: 0.6569 - val_acc: 0.8057\n",
      "Epoch 25/50\n",
      "50000/50000 [==============================] - 23s - loss: 0.2199 - acc: 0.9210 - val_loss: 0.6327 - val_acc: 0.8166\n",
      "Epoch 26/50\n",
      "50000/50000 [==============================] - 23s - loss: 0.2128 - acc: 0.9238 - val_loss: 0.6305 - val_acc: 0.8146\n",
      "Epoch 27/50\n",
      "50000/50000 [==============================] - 23s - loss: 0.1979 - acc: 0.9314 - val_loss: 0.6564 - val_acc: 0.8117\n",
      "Epoch 28/50\n",
      "50000/50000 [==============================] - 23s - loss: 0.1920 - acc: 0.9316 - val_loss: 0.6529 - val_acc: 0.8160\n",
      "Epoch 29/50\n",
      "50000/50000 [==============================] - 23s - loss: 0.1799 - acc: 0.9364 - val_loss: 0.6456 - val_acc: 0.8166\n",
      "Epoch 30/50\n",
      "50000/50000 [==============================] - 23s - loss: 0.1660 - acc: 0.9414 - val_loss: 0.6648 - val_acc: 0.8162\n",
      "Epoch 31/50\n",
      "50000/50000 [==============================] - 23s - loss: 0.1656 - acc: 0.9425 - val_loss: 0.6821 - val_acc: 0.8148\n",
      "Epoch 32/50\n",
      "50000/50000 [==============================] - 23s - loss: 0.1571 - acc: 0.9450 - val_loss: 0.6752 - val_acc: 0.8185\n",
      "Epoch 33/50\n",
      "50000/50000 [==============================] - 23s - loss: 0.1486 - acc: 0.9482 - val_loss: 0.6810 - val_acc: 0.8135\n",
      "Epoch 34/50\n",
      "50000/50000 [==============================] - 23s - loss: 0.1441 - acc: 0.9506 - val_loss: 0.6660 - val_acc: 0.8247\n",
      "Epoch 35/50\n",
      "50000/50000 [==============================] - 23s - loss: 0.1401 - acc: 0.9513 - val_loss: 0.6961 - val_acc: 0.8167\n",
      "Epoch 36/50\n",
      "50000/50000 [==============================] - 23s - loss: 0.1353 - acc: 0.9531 - val_loss: 0.7279 - val_acc: 0.8142\n",
      "Epoch 37/50\n",
      "50000/50000 [==============================] - 23s - loss: 0.1306 - acc: 0.9549 - val_loss: 0.7048 - val_acc: 0.8180\n",
      "Epoch 38/50\n",
      "50000/50000 [==============================] - 23s - loss: 0.1201 - acc: 0.9582 - val_loss: 0.7332 - val_acc: 0.8147\n",
      "Epoch 39/50\n",
      "50000/50000 [==============================] - 22s - loss: 0.1214 - acc: 0.9577 - val_loss: 0.7311 - val_acc: 0.8141\n",
      "Epoch 40/50\n",
      "50000/50000 [==============================] - 22s - loss: 0.1123 - acc: 0.9611 - val_loss: 0.7365 - val_acc: 0.8167\n",
      "Epoch 41/50\n",
      "50000/50000 [==============================] - 22s - loss: 0.1112 - acc: 0.9618 - val_loss: 0.7391 - val_acc: 0.8174\n",
      "Epoch 42/50\n",
      "50000/50000 [==============================] - 22s - loss: 0.1021 - acc: 0.9657 - val_loss: 0.7381 - val_acc: 0.8183\n",
      "Epoch 43/50\n",
      "50000/50000 [==============================] - 22s - loss: 0.1054 - acc: 0.9640 - val_loss: 0.6846 - val_acc: 0.8254\n",
      "Epoch 44/50\n",
      "50000/50000 [==============================] - 22s - loss: 0.1006 - acc: 0.9660 - val_loss: 0.7383 - val_acc: 0.8217\n",
      "Epoch 45/50\n",
      "50000/50000 [==============================] - 23s - loss: 0.0987 - acc: 0.9667 - val_loss: 0.7363 - val_acc: 0.8181\n",
      "Epoch 46/50\n",
      "50000/50000 [==============================] - 23s - loss: 0.0888 - acc: 0.9689 - val_loss: 0.7393 - val_acc: 0.8256\n",
      "Epoch 47/50\n",
      "50000/50000 [==============================] - 22s - loss: 0.0889 - acc: 0.9695 - val_loss: 0.7331 - val_acc: 0.8252\n",
      "Epoch 48/50\n",
      "50000/50000 [==============================] - 23s - loss: 0.0874 - acc: 0.9694 - val_loss: 0.7434 - val_acc: 0.8234\n",
      "Epoch 49/50\n",
      "50000/50000 [==============================] - 22s - loss: 0.0805 - acc: 0.9719 - val_loss: 0.7596 - val_acc: 0.8243\n",
      "Epoch 50/50\n",
      "50000/50000 [==============================] - 23s - loss: 0.0804 - acc: 0.9733 - val_loss: 0.7615 - val_acc: 0.8241\n"
     ]
    },
    {
     "data": {
      "text/plain": [
       "<keras.callbacks.History at 0x7f159ffffc50>"
      ]
     },
     "execution_count": 19,
     "metadata": {},
     "output_type": "execute_result"
    }
   ],
   "source": [
    "# fitting the model\n",
    "batch_size = 128\n",
    "epochs = 50\n",
    "\n",
    "model2.fit(X_train, y_train, validation_data=(X_test, y_test), nb_epoch=epochs)\n"
   ]
  },
  {
   "cell_type": "code",
   "execution_count": 21,
   "metadata": {
    "collapsed": false
   },
   "outputs": [
    {
     "name": "stdout",
     "output_type": "stream",
     "text": [
      "Accuracy: 82.41%\n"
     ]
    }
   ],
   "source": [
    "# Final evaluation of the model\n",
    "scores = model2.evaluate(X_test, y_test, verbose=0)\n",
    "print(\"Accuracy: %.2f%%\" % (scores[1]*100))"
   ]
  },
  {
   "cell_type": "code",
   "execution_count": 15,
   "metadata": {
    "collapsed": false
   },
   "outputs": [],
   "source": [
    "## data augmentation\n",
    "\n",
    "\n",
    "datagen1 = ImageDataGenerator(featurewise_center=False, \n",
    "                              featurewise_std_normalization=False,\n",
    "                             #zca_whitening=True,\n",
    "                              width_shift_range=0.1,\n",
    "                              height_shift_range=0.1,\n",
    "                              zoom_range=0.2,\n",
    "                              shear_range=0.1,\n",
    "                              rotation_range=10.,\n",
    "                              horizontal_flip=True,\n",
    "                              vertical_flip=True)\n",
    "\n",
    "\n",
    "datagen2 = ImageDataGenerator(featurewise_center=True,\n",
    "                              featurewise_std_normalization=True,\n",
    "                              #zca_whitening=True,\n",
    "                              width_shift_range=0.1,\n",
    "                              height_shift_range=0.1,\n",
    "                              zoom_range=0.2,\n",
    "                              shear_range=0.1,\n",
    "                              rotation_range=10.,\n",
    "                              #horizontal_flip=True\n",
    "                              )\n",
    "\n",
    "datagen3 = ImageDataGenerator(featurewise_center=False,\n",
    "                              featurewise_std_normalization=False,\n",
    "                              zca_whitening=True)\n",
    "\n",
    "datagen4 = ImageDataGenerator(zca_whitening=True)\n",
    "\n",
    "datagen1.fit(X_train)"
   ]
  },
  {
   "cell_type": "code",
   "execution_count": 16,
   "metadata": {
    "collapsed": false
   },
   "outputs": [
    {
     "name": "stdout",
     "output_type": "stream",
     "text": [
      "Epoch 1/30\n",
      "50000/50000 [==============================] - 15s - loss: 2.1475 - acc: 0.1914 - val_loss: 1.9643 - val_acc: 0.2706\n",
      "Epoch 2/30\n",
      "50000/50000 [==============================] - 14s - loss: 1.9189 - acc: 0.2858 - val_loss: 1.7399 - val_acc: 0.3717\n",
      "Epoch 3/30\n",
      "50000/50000 [==============================] - 14s - loss: 1.7610 - acc: 0.3480 - val_loss: 1.6027 - val_acc: 0.4083\n",
      "Epoch 4/30\n",
      "50000/50000 [==============================] - 14s - loss: 1.6465 - acc: 0.3986 - val_loss: 1.4756 - val_acc: 0.4547\n",
      "Epoch 5/30\n",
      "50000/50000 [==============================] - 14s - loss: 1.5612 - acc: 0.4320 - val_loss: 1.4690 - val_acc: 0.4668\n",
      "Epoch 6/30\n",
      "50000/50000 [==============================] - 14s - loss: 1.4810 - acc: 0.4603 - val_loss: 1.3196 - val_acc: 0.5203\n",
      "Epoch 7/30\n",
      "50000/50000 [==============================] - 14s - loss: 1.4323 - acc: 0.4769 - val_loss: 1.3170 - val_acc: 0.5216\n",
      "Epoch 8/30\n",
      "50000/50000 [==============================] - 14s - loss: 1.3784 - acc: 0.5001 - val_loss: 1.2551 - val_acc: 0.5482\n",
      "Epoch 9/30\n",
      "50000/50000 [==============================] - 14s - loss: 1.3197 - acc: 0.5220 - val_loss: 1.1419 - val_acc: 0.5867\n",
      "Epoch 10/30\n",
      "50000/50000 [==============================] - 14s - loss: 1.2722 - acc: 0.5400 - val_loss: 1.0945 - val_acc: 0.6092\n",
      "Epoch 11/30\n",
      "50000/50000 [==============================] - 14s - loss: 1.2271 - acc: 0.5588 - val_loss: 1.0548 - val_acc: 0.6209\n",
      "Epoch 12/30\n",
      "50000/50000 [==============================] - 14s - loss: 1.1940 - acc: 0.5702 - val_loss: 1.0463 - val_acc: 0.6232\n",
      "Epoch 13/30\n",
      "50000/50000 [==============================] - 14s - loss: 1.1521 - acc: 0.5872 - val_loss: 0.9805 - val_acc: 0.6494\n",
      "Epoch 14/30\n",
      "50000/50000 [==============================] - 15s - loss: 1.1284 - acc: 0.5935 - val_loss: 0.9924 - val_acc: 0.6471\n",
      "Epoch 15/30\n",
      "50000/50000 [==============================] - 14s - loss: 1.0910 - acc: 0.6082 - val_loss: 0.9426 - val_acc: 0.6666\n",
      "Epoch 16/30\n",
      "50000/50000 [==============================] - 14s - loss: 1.0601 - acc: 0.6202 - val_loss: 0.8942 - val_acc: 0.6832\n",
      "Epoch 17/30\n",
      "50000/50000 [==============================] - 14s - loss: 1.0356 - acc: 0.6281 - val_loss: 0.8886 - val_acc: 0.6797\n",
      "Epoch 18/30\n",
      "50000/50000 [==============================] - 14s - loss: 1.0098 - acc: 0.6410 - val_loss: 0.8708 - val_acc: 0.6914\n",
      "Epoch 19/30\n",
      "50000/50000 [==============================] - 14s - loss: 0.9905 - acc: 0.6453 - val_loss: 0.8508 - val_acc: 0.6960\n",
      "Epoch 20/30\n",
      "50000/50000 [==============================] - 14s - loss: 0.9640 - acc: 0.6587 - val_loss: 0.8118 - val_acc: 0.7167\n",
      "Epoch 21/30\n",
      "50000/50000 [==============================] - 14s - loss: 0.9483 - acc: 0.6622 - val_loss: 0.8336 - val_acc: 0.7038\n",
      "Epoch 22/30\n",
      "50000/50000 [==============================] - 14s - loss: 0.9373 - acc: 0.6689 - val_loss: 0.7711 - val_acc: 0.7305\n",
      "Epoch 23/30\n",
      "50000/50000 [==============================] - 14s - loss: 0.9244 - acc: 0.6706 - val_loss: 0.7715 - val_acc: 0.7300\n",
      "Epoch 24/30\n",
      "50000/50000 [==============================] - 14s - loss: 0.9038 - acc: 0.6771 - val_loss: 0.7747 - val_acc: 0.7266\n",
      "Epoch 25/30\n",
      "50000/50000 [==============================] - 14s - loss: 0.8914 - acc: 0.6847 - val_loss: 0.7600 - val_acc: 0.7325\n",
      "Epoch 26/30\n",
      "50000/50000 [==============================] - 14s - loss: 0.8769 - acc: 0.6914 - val_loss: 0.7480 - val_acc: 0.7408\n",
      "Epoch 27/30\n",
      "50000/50000 [==============================] - 14s - loss: 0.8647 - acc: 0.6929 - val_loss: 0.7224 - val_acc: 0.7487\n",
      "Epoch 28/30\n",
      "50000/50000 [==============================] - 14s - loss: 0.8601 - acc: 0.6959 - val_loss: 0.7043 - val_acc: 0.7546\n",
      "Epoch 29/30\n",
      "50000/50000 [==============================] - 14s - loss: 0.8435 - acc: 0.7011 - val_loss: 0.6955 - val_acc: 0.7568\n",
      "Epoch 30/30\n",
      "50000/50000 [==============================] - 14s - loss: 0.8302 - acc: 0.7062 - val_loss: 0.7386 - val_acc: 0.7395\n"
     ]
    },
    {
     "data": {
      "text/plain": [
       "<keras.callbacks.History at 0x7f1598bf6ef0>"
      ]
     },
     "execution_count": 16,
     "metadata": {},
     "output_type": "execute_result"
    }
   ],
   "source": [
    "model2 = cnn_model()\n",
    "\n",
    "lr = 0.01\n",
    "\n",
    "sgd = SGD(lr=lr, decay=1e-5, momentum=0.9, nesterov=False)\n",
    "\n",
    "model2.compile(loss='categorical_crossentropy',\n",
    "          optimizer=sgd,\n",
    "          metrics=['accuracy'])\n",
    "\n",
    "nb_epoch =30\n",
    "batch_size = 128\n",
    "model2.fit_generator(datagen1.flow(X_train, y_train, batch_size=batch_size),\n",
    "                            samples_per_epoch=X_train.shape[0],\n",
    "                            nb_epoch=nb_epoch,\n",
    "                            validation_data=(X_test, y_test))"
   ]
  },
  {
   "cell_type": "code",
   "execution_count": 20,
   "metadata": {
    "collapsed": false
   },
   "outputs": [
    {
     "name": "stdout",
     "output_type": "stream",
     "text": [
      "Accuracy: 82.41%\n"
     ]
    }
   ],
   "source": [
    "# Final evaluation of the model\n",
    "scores = model2.evaluate(X_test, y_test, verbose=0)\n",
    "print(\"Accuracy: %.2f%%\" % (scores[1]*100))"
   ]
  },
  {
   "cell_type": "code",
   "execution_count": null,
   "metadata": {
    "collapsed": true
   },
   "outputs": [],
   "source": []
  }
 ],
 "metadata": {
  "anaconda-cloud": {},
  "kernelspec": {
   "display_name": "Python [Root]",
   "language": "python",
   "name": "Python [Root]"
  },
  "language_info": {
   "codemirror_mode": {
    "name": "ipython",
    "version": 3
   },
   "file_extension": ".py",
   "mimetype": "text/x-python",
   "name": "python",
   "nbconvert_exporter": "python",
   "pygments_lexer": "ipython3",
   "version": "3.5.2"
  }
 },
 "nbformat": 4,
 "nbformat_minor": 0
}
